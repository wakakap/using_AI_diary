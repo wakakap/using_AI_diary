{
  "nbformat": 4,
  "nbformat_minor": 0,
  "metadata": {
    "colab": {
      "provenance": []
    },
    "kernelspec": {
      "name": "python3",
      "display_name": "Python 3"
    },
    "language_info": {
      "name": "python"
    },
    "accelerator": "GPU",
    "gpuClass": "standard"
  },
  "cells": [
    {
      "cell_type": "markdown",
      "source": [
        "# LoRA 模型訓練\n",
        "1. 執行階段->變更執行階段類型->硬體加速器選擇GPU\n",
        "2. 掛接雲端硬碟\n",
        "3. 將資料集放在/content/drive/MyDrive/LoRA_training/datasets\n",
        "4. 建立環境\n",
        "5. 訓練參數設置\n",
        "6. 開始訓練LoRA\n",
        "\n",
        "詳細步驟請參考[巴哈教學](https://home.gamer.com.tw/artwork.php?sn=5652683)"
      ],
      "metadata": {
        "id": "WBJJJvqA3FcT"
      }
    },
    {
      "cell_type": "code",
      "execution_count": null,
      "metadata": {
        "id": "2q9eU2Svu-Gu"
      },
      "outputs": [],
      "source": [
        "#@title 掛接雲端硬碟\n",
        "from google.colab import drive\n",
        "drive.mount('/content/drive')\n",
        "!cd /content/drive/MyDrive/\n",
        "!mkdir /content/drive/MyDrive/LoRA_training/\n",
        "!mkdir /content/drive/MyDrive/LoRA_training/datasets\n",
        "!mkdir /content/drive/MyDrive/LoRA_training/output\n",
        "!mkdir /content/drive/MyDrive/LoRA_training/log"
      ]
    },
    {
      "cell_type": "code",
      "source": [
        "#@title 建立環境\n",
        "!sudo apt-get update -y && sudo apt-get install python3.10 python3.10-dev python3.10-distutils libpython3.10-dev python3.10-venv\n",
        "\n",
        "# Link python3 to 3.10.\n",
        "!sudo update-alternatives --install /usr/bin/python3 python3 /usr/bin/python3.8 1\n",
        "!sudo update-alternatives --install /usr/bin/python3 python3 /usr/bin/python3.10 2\n",
        "\n",
        "# Install pip.\n",
        "!curl -sS https://bootstrap.pypa.io/get-pip.py | python3.9\n",
        "\n",
        "# Install your dependencies. Pin IPython and traitlets versions, as traitlets version 5.8 contains a breaking change that prevents google-colab server extension from working properly.\n",
        "# Some of these packages may not be required.\n",
        "!python3 -m pip install ipython==7.9.0 traitlets==5.7.1 jupyter psutil setuptools ipython_genutils ipykernel jupyter_console prompt_toolkit httplib2 astor\n",
        "\n",
        "# Copy the already installed `google-colab` package over. It depends on an _old version_ of pandas, so building the wheel won't work.\n",
        "!ln -s /usr/local/lib/python3.8/dist-packages/google \\\n",
        "       /usr/local/lib/python3.10/dist-packages/google\n",
        "\n",
        "# Reinstall jupyter server extension.\n",
        "!jupyter serverextension list\n",
        "!jupyter notebook --config=/usr/local/etc/jupyter/jupyter_notebook_config.json\n",
        "\n",
        "#Reinstall pip\n",
        "!python3 -m ensurepip --upgrade\n",
        "\n",
        "%cd /content\n",
        "!git clone https://github.com/kohya-ss/sd-scripts\n",
        "!git checkout 53d60543e59d6fdf3a6b5d0d15019487d2e415db\n",
        "%cd /content/sd-scripts\n",
        "\n",
        "!pip install torch==1.12.1+cu116 torchvision==0.13.1+cu116 --extra-index-url https://download.pytorch.org/whl/cu116\n",
        "!pip install --upgrade -r requirements.txt\n",
        "!pip install -U -I --no-deps https://github.com/C43H66N12O12S2/stable-diffusion-webui/releases/download/linux/xformers-0.0.14.dev0-cp310-cp310-linux_x86_64.whl\n"
      ],
      "metadata": {
        "id": "4KMVwie7vA60"
      },
      "execution_count": null,
      "outputs": []
    },
    {
      "cell_type": "code",
      "source": [
        "#@title 下載 anything-v3-fp32-pruned.safetensors { display-mode: \"form\" }\n",
        "import os\n",
        "from google.colab import drive\n",
        "\n",
        "%cd /content/drive/MyDrive/Stable_Diffusion_Webui/Stable-diffusion\n",
        "\n",
        "if not os.path.exists('anything-v3-fp32-pruned.safetensors'):\n",
        "  print(\"下載SD模型...\") \n",
        "  !wget https://huggingface.co/Linaqruf/anything-v3.0/resolve/main/anything-v3-fp32-pruned.safetensors"
      ],
      "metadata": {
        "id": "S-GXGgCMxUKF"
      },
      "execution_count": null,
      "outputs": []
    },
    {
      "cell_type": "code",
      "source": [
        "#@title 訓練參數設置\n",
        "\n",
        "#@markdown ##專案名稱\n",
        "project_name = \"kacya07\" #@param {type:\"string\"}\n",
        "train_data_dir = \"/content/drive/MyDrive/LoRA_training/datasets/\" + project_name\n",
        "output_dir = \"/content/drive/MyDrive/LoRA_training/output/\" + project_name\n",
        "logging_dir = \"/content/drive/MyDrive/LoRA_training/log\"\n",
        "#@markdown 將資料集資料夾放在 `/content/drive/MyDrive/LoRA_training/datasets` ，資料夾名稱為 `project_name`。\n",
        "\n",
        "#@markdown ##訓練相關參數\n",
        "#@markdown Base Model路徑\n",
        "model_path = \"/content/drive/MyDrive/Stable_Diffusion_Webui/Stable-diffusion/anything-v3-fp32-pruned.safetensors\" #@param {type:\"string\"}\n",
        "#@markdown 圖片解析度\n",
        "width = 576 #@param {type:\"slider\", min:256, max:1024, step:64}\n",
        "height = 1024 #@param {type:\"slider\", min:256, max:1024, step:64}\n",
        "#@markdown batch大小\n",
        "train_batch_size = 1 #@param {type:\"slider\", min:1, max:8, step:1}\n",
        "#@markdown 最大訓練epochs\n",
        "max_train_epochs = 30 #@param {type:\"integer\"}\n",
        "#@markdown 每n個epochs存檔一次\n",
        "save_every_n_epochs = 5 #@param {type:\"integer\"}\n",
        "#@markdown LoRA模型大小\n",
        "network_dim = 64 #@param {type:\"slider\", min:1, max:128, step:1}\n",
        "#@markdown 打亂標籤\n",
        "use_shuffle_caption = True #@param {type:\"boolean\"}\n",
        "\n",
        "#@markdown ##學習率\n",
        "lr = 1e-4 #@param {type:\"number\"}\n",
        "unet_lr = 1e-4 #@param {type:\"number\"}\n",
        "text_encoder_lr = 1e-5 #@param {type:\"number\"}\n",
        "lr_scheduler = \"cosine_with_restarts\" #@param [\"constant\", \"constant_with_warmup\", \"cosine\", \"cosine_with_restarts\", \"linear\", \"polynomial\"]\n",
        "#@markdown 只有在 `lr_scheduler` 為constant_with_warmup時需要填寫 `lr_warmup_steps` 。\n",
        "lr_warmup_steps = 0 #@param {type:\"integer\"}\n",
        "\n",
        "#@markdown ##輸出模型\n",
        "save_model_as = \"safetensors\" #@param [\"safetensors\", \"ckpt\", \"pt\"]\n",
        "\n",
        "if (use_shuffle_caption):\n",
        "  shuffle_caption = \"--shuffle_caption\"\n",
        "else:\n",
        "  shuffle_caption = \"\"\n",
        "  "
      ],
      "metadata": {
        "id": "cxzneQlQvCmi"
      },
      "execution_count": null,
      "outputs": []
    },
    {
      "cell_type": "code",
      "source": [
        "!nvidia-smi"
      ],
      "metadata": {
        "id": "tD3Zr4H8vXph"
      },
      "execution_count": null,
      "outputs": []
    },
    {
      "cell_type": "code",
      "source": [],
      "metadata": {
        "id": "3v3hHs0Ry7Rd"
      },
      "execution_count": null,
      "outputs": []
    },
    {
      "cell_type": "code",
      "source": [
        "#@title 開始訓練LoRA\n",
        "%cd /content/sd-scripts\n",
        "!accelerate launch \\\n",
        "  --mixed_precision 'fp16' \\\n",
        "  --num_cpu_threads_per_process=2 \\\n",
        "  \"train_network.py\" \\\n",
        "  --cache_latents \\\n",
        "  --enable_bucket \\\n",
        "  --use_8bit_adam \\\n",
        "  --mem_eff_attn \\\n",
        "  --pretrained_model_name_or_path=$model_path \\\n",
        "  --train_data_dir=$train_data_dir \\\n",
        "  --resolution=$width,$height \\\n",
        "  --output_dir=$output_dir \\\n",
        "  --train_batch_size=$train_batch_size \\\n",
        "  --lr_scheduler=$lr_scheduler \\\n",
        "  --lr_warmup_steps=$lr_warmup_steps \\\n",
        "  --max_train_epochs=$max_train_epochs \\\n",
        "  --use_8bit_adam \\\n",
        "  --mixed_precision=fp16 \\\n",
        "  --save_every_n_epochs=$save_every_n_epochs \\\n",
        "  --seed=4242 \\\n",
        "  --save_precision=fp16 \\\n",
        "  --logging_dir=$logging_dir \\\n",
        "  --save_model_as=$save_model_as \\\n",
        "  --network_module=networks.lora \\\n",
        "  --text_encoder_lr=$text_encoder_lr \\\n",
        "  --unet_lr=$unet_lr \\\n",
        "  --learning_rate=$lr \\\n",
        "  --network_dim=$network_dim \\\n",
        "  --network_alpha=$network_dim \\\n",
        "  --clip_skip=2 \\\n",
        "  --caption_extension=\".txt\" \\\n",
        "  --output_name=$project_name \\\n",
        "  $shuffle_caption"
      ],
      "metadata": {
        "id": "GeDFcPHtvMxZ",
        "cellView": "form"
      },
      "execution_count": null,
      "outputs": []
    }
  ]
}