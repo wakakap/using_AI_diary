{
  "nbformat": 4,
  "nbformat_minor": 0,
  "metadata": {
    "colab": {
      "provenance": [],
      "private_outputs": true,
      "collapsed_sections": [
        "3zxV1Ul5rtIW",
        "ARxB0CPz0-H8",
        "atssWxg9x8sx",
        "OKSogWe-6ZD2",
        "JvVVp8d-7BMK",
        "bKbbd-2gkJor",
        "CGLSbMpbmb6D",
        "DHsO-5uL2kov",
        "Xot59Arf2_v7"
      ]
    },
    "kernelspec": {
      "name": "python3",
      "display_name": "Python 3"
    },
    "language_info": {
      "name": "python"
    },
    "accelerator": "GPU",
    "gpuClass": "standard"
  },
  "cells": [
    {
      "cell_type": "markdown",
      "source": [
        "# AI繪圖使用說明\n",
        "\n",
        "先打開**執行階段 變更執行階段類型 硬體加速器選擇GPU**\n",
        "\n",
        "首次執行時\n",
        "\n",
        "1.  按**前置步驟**\n",
        "2.  至**SD模型下載**選擇model\n",
        "3.  **執行程式**\n",
        "4.  保存檔案前先停止執行程式\n",
        "\n",
        "非首次執行\n",
        "\n",
        "1. 按**前置步驟**\n",
        "2. **執行程式**\n",
        "\n",
        "不使用時，在**執行階段**選擇**中斷連線**\n",
        "\n",
        "中斷前請先**保存檔案**"
      ],
      "metadata": {
        "id": "AVQgtZ11rk44"
      }
    },
    {
      "cell_type": "markdown",
      "source": [
        "巴哈原文及參考資料：\n",
        "\n",
        "[巴哈原文](https://home.gamer.com.tw/artwork.php?sn=5661358)\n",
        "\n",
        "[本地搭建NovelAi](https://mirai.mamoe.net/topic/1659/%E6%9C%AC%E5%9C%B0%E6%90%AD%E5%BB%BAnovelai-%E5%85%8D%E8%B4%B9%E7%9A%84%E8%89%B2%E5%9B%BE%E7%94%9F%E6%88%90%E5%99%A8-%E5%8F%AF%E7%94%A8colab%E5%9C%A8%E7%BA%BF%E8%BF%90%E8%A1%8C?lang=zh-TW)\n",
        "\n",
        "[不用幾分鐘就能弄好的免費NovelAI畫圖 AI繪圖](https://home.gamer.com.tw/artwork.php?sn=5577290)\n",
        "\n",
        "[想玩AI繪圖卻不會架?顯卡太爛跑不動怎麼辦?使用Colab運行Anything V3.0 AI繪圖](https://home.gamer.com.tw/artwork.php?sn=5607797)"
      ],
      "metadata": {
        "id": "ZmZlre8C89Rr"
      }
    },
    {
      "cell_type": "markdown",
      "source": [
        "# 前置步驟"
      ],
      "metadata": {
        "id": "3zxV1Ul5rtIW"
      }
    },
    {
      "cell_type": "code",
      "source": [
        "#@title 開啟雲端權限 { display-mode: \"form\" }\n",
        "import os\n",
        "from google.colab import drive\n",
        "\n",
        "drive.mount(\"/content/drive/\")\n",
        "%cd /content/drive/MyDrive\n",
        "if not os.path.exists('Stable_Diffusion_Webui'):\n",
        "  !mkdir Stable_Diffusion_Webui\n",
        "  %cd Stable_Diffusion_Webui\n",
        "  !mkdir Stable-diffusion\n",
        "  !mkdir VAE"
      ],
      "metadata": {
        "id": "Mha48iWMGjJ-"
      },
      "execution_count": null,
      "outputs": []
    },
    {
      "cell_type": "code",
      "source": [
        "#@title 下載 stable-diffusion-webui { display-mode: \"form\" }\n",
        "%cd /content\n",
        "!git clone https://github.com/AUTOMATIC1111/stable-diffusion-webui\n",
        "%cd stable-diffusion-webui\n",
        "!git pull"
      ],
      "metadata": {
        "id": "LWcqClo_GVvN"
      },
      "execution_count": null,
      "outputs": []
    },
    {
      "cell_type": "code",
      "source": [
        "#@title 導入SD模型 { display-mode: \"form\" }\n",
        "!cp -r /content/drive/MyDrive/Stable_Diffusion_Webui/Stable-diffusion /content/stable-diffusion-webui/models/"
      ],
      "metadata": {
        "id": "5k8CSWETleJD"
      },
      "execution_count": null,
      "outputs": []
    },
    {
      "cell_type": "code",
      "source": [
        "#@title 導入VAE模型 { display-mode: \"form\" }\n",
        "!cp -r /content/drive/MyDrive/Stable_Diffusion_Webui/VAE /content/stable-diffusion-webui/models/"
      ],
      "metadata": {
        "id": "sr8osKId1UZV"
      },
      "execution_count": null,
      "outputs": []
    },
    {
      "cell_type": "code",
      "source": [
        "#@title 導入設定檔 { display-mode: \"form\" }\n",
        "%cd /content/drive/MyDrive/Stable_Diffusion_Webui\n",
        "\n",
        "if os.path.exists('config.json'):\n",
        "  !cp /content/drive/MyDrive/Stable_Diffusion_Webui/config.json /content/stable-diffusion-webui/\n",
        "if os.path.exists('styles.csv'):\n",
        "  !cp /content/drive/MyDrive/Stable_Diffusion_Webui/styles.csv /content/stable-diffusion-webui/"
      ],
      "metadata": {
        "id": "S_otWve240jM"
      },
      "execution_count": null,
      "outputs": []
    },
    {
      "cell_type": "code",
      "source": [
        "#@title 載入環境 { display-mode: \"form\" }\n",
        "%cd /content/stable-diffusion-webui\n",
        "!COMMANDLINE_ARGS=\"--exit\" REQS_FILE=\"requirements.txt\" python launch.py"
      ],
      "metadata": {
        "id": "6wp1ruhHoaCm"
      },
      "execution_count": null,
      "outputs": []
    },
    {
      "cell_type": "markdown",
      "source": [
        "# SD模型下載"
      ],
      "metadata": {
        "id": "ARxB0CPz0-H8"
      }
    },
    {
      "cell_type": "markdown",
      "source": [
        "## [ChilloutMix](https://civitai.com/models/6424/chilloutmix)"
      ],
      "metadata": {
        "id": "NctesV6TDhY_"
      }
    },
    {
      "cell_type": "code",
      "source": [
        "[] #@title 下载 Chilloutmix-Ni-pruned-fp16 { display-mode: \"form\" }\n",
        "\n",
        "# %cd /content/drive/MyDrive/Stable_Diffusion_Webui/Stable-diffusion\n",
        "\n",
        "# if not os.path.exists('Chilloutmix-Ni.safetensors'):\n",
        "#   print(\"下載SD模型...\") \n",
        "#   !wget https://huggingface.co/TASUKU2023/Chilloutmix/raw/main/Chilloutmix-Ni.safetensors\n",
        "# print(\"導入SD模型...\")\n",
        "# !cp -r /content/drive/MyDrive/Stable_Diffusion_Webui/Stable-diffusion /content/stable-diffusion-webui/models/\n",
        "\n",
        "%cd /content/stable-diffusion-webui/models/\n",
        "!wget https://huggingface.co/TASUKU2023/Chilloutmix/resolve/63b1e918fc637b013aa8284c2187f3136d68591a/Chilloutmix-Ni.safetensors"
      ],
      "metadata": {
        "id": "Q8fBJMA0Ecwh"
      },
      "execution_count": null,
      "outputs": []
    },
    {
      "cell_type": "markdown",
      "source": [
        "## [AnythingV3](https://huggingface.co/Linaqruf/anything-v3.0)"
      ],
      "metadata": {
        "id": "atssWxg9x8sx"
      }
    },
    {
      "cell_type": "code",
      "source": [
        "#@title 下載 anything-v3-fp32-pruned.safetensors { display-mode: \"form\" }\n",
        "\n",
        "%cd /content/drive/MyDrive/Stable_Diffusion_Webui/Stable-diffusion\n",
        "\n",
        "if not os.path.exists('anything-v3-fp32-pruned.safetensors'):\n",
        "  print(\"下載SD模型...\") \n",
        "  !wget https://huggingface.co/Linaqruf/anything-v3.0/resolve/main/anything-v3-fp32-pruned.safetensors\n",
        "print(\"導入SD模型...\")\n",
        "!cp -r /content/drive/MyDrive/Stable_Diffusion_Webui/Stable-diffusion /content/stable-diffusion-webui/models/"
      ],
      "metadata": {
        "id": "ynaW64_dJZeG"
      },
      "execution_count": null,
      "outputs": []
    },
    {
      "cell_type": "code",
      "source": [
        "#@title 下載 Anything-V3.0-vae.pt { display-mode: \"form\" }\n",
        "#@markdown VAE 開啟後圖片色彩比較豐富，到 setting 中間排下拉尋找選項更改並儲存\n",
        "%cd /content/drive/MyDrive/Stable_Diffusion_Webui/VAE\n",
        "\n",
        "# if not os.path.exists('Anything-V3.0.vae.pt'):\n",
        "#   print(\"下載VAE...\")\n",
        "#   !wget https://huggingface.co/WuLing/my_vae/resolve/main/Anything-V3.0.vae.pt \n",
        "print(\"導入VAE...\")\n",
        "!cp -r /content/drive/MyDrive/Stable_Diffusion_Webui/VAE /content/stable-diffusion-webui/models/"
      ],
      "metadata": {
        "id": "GPO8_qr9iEsc"
      },
      "execution_count": null,
      "outputs": []
    },
    {
      "cell_type": "markdown",
      "source": [
        "## [AnythingV4.5](https://huggingface.co/andite/anything-v4.0)"
      ],
      "metadata": {
        "id": "OKSogWe-6ZD2"
      }
    },
    {
      "cell_type": "code",
      "source": [
        "#@title 下載 anything-v4.5-pruned.safetensors { display-mode: \"form\" }\n",
        "\n",
        "%cd /content/drive/MyDrive/Stable_Diffusion_Webui/Stable-diffusion\n",
        "\n",
        "if not os.path.exists('anything-v4.5-pruned.safetensors'):\n",
        "  print(\"下載SD模型...\") \n",
        "  !wget https://huggingface.co/andite/anything-v4.0/resolve/main/anything-v4.5-pruned.safetensors\n",
        "print(\"導入SD模型...\")\n",
        "!cp -r /content/drive/MyDrive/Stable_Diffusion_Webui/Stable-diffusion /content/stable-diffusion-webui/models/"
      ],
      "metadata": {
        "id": "XdNrFMRE6ZEG"
      },
      "execution_count": null,
      "outputs": []
    },
    {
      "cell_type": "markdown",
      "source": [
        "## [AbyssOrangeMix2_sfw](https://huggingface.co/WarriorMama777/OrangeMixs)\n"
      ],
      "metadata": {
        "id": "JvVVp8d-7BMK"
      }
    },
    {
      "cell_type": "code",
      "source": [
        "#@title 下載 AbyssOrangeMix2_sfw.safetensors { display-mode: \"form\" }\n",
        "\n",
        "%cd /content/drive/MyDrive/Stable_Diffusion_Webui/Stable-diffusion\n",
        "\n",
        "if not os.path.exists('AbyssOrangeMix2_sfw.safetensors'):\n",
        "  print(\"下載SD模型...\") \n",
        "  !wget https://huggingface.co/WarriorMama777/OrangeMixs/resolve/main/Models/AbyssOrangeMix2/AbyssOrangeMix2_sfw.safetensors\n",
        "print(\"導入SD模型...\")\n",
        "!cp -r /content/drive/MyDrive/Stable_Diffusion_Webui/Stable-diffusion /content/stable-diffusion-webui/models/"
      ],
      "metadata": {
        "id": "UZ2-sDjb7BMM"
      },
      "execution_count": null,
      "outputs": []
    },
    {
      "cell_type": "code",
      "source": [
        "#@title 下載 orangemix.vae.pt { display-mode: \"form\" }\n",
        "#@markdown VAE 開啟後圖片色彩比較豐富，到 setting 中間排下拉尋找選項更改並儲存\n",
        "%cd /content/drive/MyDrive/Stable_Diffusion_Webui/VAE\n",
        "\n",
        "# if not os.path.exists('orangemix.vae.pt'):\n",
        "#   print(\"下載VAE...\")\n",
        "#   !wget https://huggingface.co/WarriorMama777/OrangeMixs/resolve/main/VAEs/orangemix.vae.pt\n",
        "\n",
        "print(\"導入VAE...\")\n",
        "!cp -r /content/drive/MyDrive/Stable_Diffusion_Webui/VAE /content/stable-diffusion-webui/models/"
      ],
      "metadata": {
        "id": "QW17bxdp7BMN"
      },
      "execution_count": null,
      "outputs": []
    },
    {
      "cell_type": "markdown",
      "source": [
        "# Extension\n",
        "請在**執行程式**之前執行所需的Extension"
      ],
      "metadata": {
        "id": "bKbbd-2gkJor"
      }
    },
    {
      "cell_type": "markdown",
      "source": [
        "## LoRA"
      ],
      "metadata": {
        "id": "CGLSbMpbmb6D"
      }
    },
    {
      "cell_type": "code",
      "source": [
        "#@title 下載 LoRA Extension\n",
        "%cd /content/stable-diffusion-webui/extensions\n",
        "!git clone https://github.com/kohya-ss/sd-webui-additional-networks\n",
        "%cd /content/drive/MyDrive/Stable_Diffusion_Webui\n",
        "if not os.path.exists('lora'):\n",
        "  !mkdir lora"
      ],
      "metadata": {
        "id": "tYa_nrTckeZc"
      },
      "execution_count": null,
      "outputs": []
    },
    {
      "cell_type": "code",
      "source": [
        "#@title 導入 LoRA 檔\n",
        "#@markdown 先將 LoRA 檔放在 Stable_Diffusion_Webui 內的 lora 資料夾中\n",
        "!cp -r /content/drive/MyDrive/Stable_Diffusion_Webui/lora /content/stable-diffusion-webui/extensions/sd-webui-additional-networks/models/"
      ],
      "metadata": {
        "id": "nm7oIOz0lZ_r"
      },
      "execution_count": null,
      "outputs": []
    },
    {
      "cell_type": "markdown",
      "source": [
        "# 執行程式"
      ],
      "metadata": {
        "id": "DHsO-5uL2kov"
      }
    },
    {
      "cell_type": "code",
      "source": [
        "#@title 執行程式 { display-mode: \"form\" }\n",
        "%cd /content/stable-diffusion-webui\n",
        "!COMMANDLINE_ARGS=\"--share --gradio-debug\" REQS_FILE=\"requirements.txt\" python launch.py"
      ],
      "metadata": {
        "id": "CrOXeish2j1y"
      },
      "execution_count": null,
      "outputs": []
    },
    {
      "cell_type": "markdown",
      "source": [
        "# 保存檔案\n",
        "先關閉執行程式後再使用"
      ],
      "metadata": {
        "id": "Xot59Arf2_v7"
      }
    },
    {
      "cell_type": "code",
      "source": [
        "#@title 保存圖片 { display-mode: \"form\" }\n",
        "#@markdown 圖片將保存在 Stable_Diffusion_Webui 內的 outputs 資料夾中\n",
        "!cp -r /content/stable-diffusion-webui/outputs /content/drive/MyDrive/Stable_Diffusion_Webui/"
      ],
      "metadata": {
        "id": "rzMUAqnG3kfv"
      },
      "execution_count": null,
      "outputs": []
    },
    {
      "cell_type": "code",
      "source": [
        "#@title 保存設定檔 { display-mode: \"form\" }\n",
        "!cp -r /content/stable-diffusion-webui/config.json /content/drive/MyDrive/Stable_Diffusion_Webui/\n",
        "!cp -r /content/stable-diffusion-webui/styles.csv /content/drive/MyDrive/Stable_Diffusion_Webui/"
      ],
      "metadata": {
        "id": "s2AZxn0E4D3o"
      },
      "execution_count": null,
      "outputs": []
    }
  ]
}